{
 "cells": [
  {
   "cell_type": "code",
   "execution_count": 57,
   "id": "fc8607f2",
   "metadata": {},
   "outputs": [],
   "source": [
    "import pandas as pd"
   ]
  },
  {
   "cell_type": "code",
   "execution_count": 58,
   "id": "19809a29",
   "metadata": {},
   "outputs": [],
   "source": [
    "from bs4 import BeautifulSoup as soup"
   ]
  },
  {
   "cell_type": "code",
   "execution_count": 59,
   "id": "f464508a",
   "metadata": {},
   "outputs": [],
   "source": [
    "from urllib.request import urlopen as uReq"
   ]
  },
  {
   "cell_type": "code",
   "execution_count": 81,
   "id": "cdf034bb",
   "metadata": {},
   "outputs": [
    {
     "data": {
      "text/plain": [
       "'https://www.ebay.com/sch/i.html?_from=R40&_trksid=p2380057.m570.l1313&_nkw=data+science&_sacat=0'"
      ]
     },
     "execution_count": 81,
     "metadata": {},
     "output_type": "execute_result"
    }
   ],
   "source": [
    "search_term= \"data+science\"\n",
    "my_url= \"https://www.ebay.com/sch/i.html?_from=R40&_trksid=p2380057.m570.l1313&_nkw={}&_sacat=0\".format(search_term)\n",
    "my_url"
   ]
  },
  {
   "cell_type": "code",
   "execution_count": 82,
   "id": "da4adf62",
   "metadata": {},
   "outputs": [],
   "source": [
    "client= uReq(my_url)"
   ]
  },
  {
   "cell_type": "code",
   "execution_count": 83,
   "id": "f8020296",
   "metadata": {},
   "outputs": [
    {
     "data": {
      "text/plain": [
       "<http.client.HTTPResponse at 0x10e0fe020>"
      ]
     },
     "execution_count": 83,
     "metadata": {},
     "output_type": "execute_result"
    }
   ],
   "source": [
    "client "
   ]
  },
  {
   "cell_type": "code",
   "execution_count": 84,
   "id": "0d733feb",
   "metadata": {},
   "outputs": [],
   "source": [
    "page_html = client.read()"
   ]
  },
  {
   "cell_type": "code",
   "execution_count": 85,
   "id": "57cba3af",
   "metadata": {},
   "outputs": [],
   "source": [
    "client.close()"
   ]
  },
  {
   "cell_type": "code",
   "execution_count": null,
   "id": "37f00a60",
   "metadata": {},
   "outputs": [],
   "source": []
  },
  {
   "cell_type": "code",
   "execution_count": 86,
   "id": "11e81bd2",
   "metadata": {},
   "outputs": [],
   "source": [
    "page_soup = soup(page_html)"
   ]
  },
  {
   "cell_type": "code",
   "execution_count": 87,
   "id": "a83d809c",
   "metadata": {},
   "outputs": [],
   "source": [
    "span_tags= page_soup.findAll('span', {\"class\": \"s-item__price\"})"
   ]
  },
  {
   "cell_type": "code",
   "execution_count": 88,
   "id": "a64e8780",
   "metadata": {},
   "outputs": [
    {
     "data": {
      "text/plain": [
       "['20.00',\n",
       " '18.30',\n",
       " '9.14',\n",
       " '5.89',\n",
       " '15.54',\n",
       " '4.00',\n",
       " '27.99',\n",
       " '50.00',\n",
       " '0.99',\n",
       " '40.00',\n",
       " '6.20',\n",
       " '7.38',\n",
       " '14.99',\n",
       " '22.99',\n",
       " '8.77',\n",
       " '7.68',\n",
       " '14.34',\n",
       " '11.78',\n",
       " '7.25',\n",
       " '18.90',\n",
       " '24.97',\n",
       " '6.78',\n",
       " '5.49',\n",
       " '6.21',\n",
       " '23.07',\n",
       " '5.65',\n",
       " '30.00',\n",
       " '5.38',\n",
       " '30.00',\n",
       " '32.99',\n",
       " '4.99',\n",
       " '11.68',\n",
       " '6.71',\n",
       " '50.55',\n",
       " '23.84',\n",
       " '13.99',\n",
       " '6.50',\n",
       " '27.99',\n",
       " '100.00',\n",
       " '5.49',\n",
       " '36.76',\n",
       " '22.00',\n",
       " '15.14',\n",
       " '6.68',\n",
       " '39.99',\n",
       " '22.99',\n",
       " '5.60',\n",
       " '32.99',\n",
       " '75.99',\n",
       " '4.60',\n",
       " '25.00',\n",
       " '54.99',\n",
       " '54.00',\n",
       " '18.00',\n",
       " '9.79',\n",
       " '52.99',\n",
       " '17.44',\n",
       " '11.78',\n",
       " '54.00',\n",
       " '5.82',\n",
       " '5.61',\n",
       " '23.82',\n",
       " '4.45',\n",
       " '12.28',\n",
       " '37.30',\n",
       " '26.40',\n",
       " '38.00',\n",
       " '10.00',\n",
       " '11.09',\n",
       " '14.45',\n",
       " '13.20',\n",
       " '19.63',\n",
       " '40.19',\n",
       " '68.56']"
      ]
     },
     "execution_count": 88,
     "metadata": {},
     "output_type": "execute_result"
    }
   ],
   "source": [
    "prices = []\n",
    "for item in span_tags:\n",
    "    prices.append(item.text[1:])\n",
    "    \n",
    "prices "
   ]
  },
  {
   "cell_type": "code",
   "execution_count": 89,
   "id": "825b400b",
   "metadata": {},
   "outputs": [
    {
     "data": {
      "text/plain": [
       "array([ 20.  ,  18.3 ,   9.14,   5.89,  15.54,   4.  ,  27.99,  50.  ,\n",
       "         0.99,  40.  ,   6.2 ,   7.38,  14.99,  22.99,   8.77,   7.68,\n",
       "        14.34,  11.78,   7.25,  18.9 ,  24.97,   6.78,   5.49,   6.21,\n",
       "        23.07,   5.65,  30.  ,   5.38,  30.  ,  32.99,   4.99,  11.68,\n",
       "         6.71,  50.55,  23.84,  13.99,   6.5 ,  27.99, 100.  ,   5.49,\n",
       "        36.76,  22.  ,  15.14,   6.68,  39.99,  22.99,   5.6 ,  32.99,\n",
       "        75.99,   4.6 ,  25.  ,  54.99,  54.  ,  18.  ,   9.79,  52.99,\n",
       "        17.44,  11.78,  54.  ,   5.82,   5.61,  23.82,   4.45,  12.28,\n",
       "        37.3 ,  26.4 ,  38.  ,  10.  ,  11.09,  14.45,  13.2 ,  19.63,\n",
       "        40.19,  68.56])"
      ]
     },
     "execution_count": 89,
     "metadata": {},
     "output_type": "execute_result"
    }
   ],
   "source": [
    "numeric_array = pd.to_numeric(prices, errors= 'coerce')\n",
    "numeric_array "
   ]
  },
  {
   "cell_type": "code",
   "execution_count": 90,
   "id": "1fc7f21d",
   "metadata": {},
   "outputs": [
    {
     "data": {
      "text/html": [
       "<div>\n",
       "<style scoped>\n",
       "    .dataframe tbody tr th:only-of-type {\n",
       "        vertical-align: middle;\n",
       "    }\n",
       "\n",
       "    .dataframe tbody tr th {\n",
       "        vertical-align: top;\n",
       "    }\n",
       "\n",
       "    .dataframe thead th {\n",
       "        text-align: right;\n",
       "    }\n",
       "</style>\n",
       "<table border=\"1\" class=\"dataframe\">\n",
       "  <thead>\n",
       "    <tr style=\"text-align: right;\">\n",
       "      <th></th>\n",
       "      <th>0</th>\n",
       "    </tr>\n",
       "  </thead>\n",
       "  <tbody>\n",
       "    <tr>\n",
       "      <th>0</th>\n",
       "      <td>20.00</td>\n",
       "    </tr>\n",
       "    <tr>\n",
       "      <th>1</th>\n",
       "      <td>18.30</td>\n",
       "    </tr>\n",
       "    <tr>\n",
       "      <th>2</th>\n",
       "      <td>9.14</td>\n",
       "    </tr>\n",
       "    <tr>\n",
       "      <th>3</th>\n",
       "      <td>5.89</td>\n",
       "    </tr>\n",
       "    <tr>\n",
       "      <th>4</th>\n",
       "      <td>15.54</td>\n",
       "    </tr>\n",
       "    <tr>\n",
       "      <th>...</th>\n",
       "      <td>...</td>\n",
       "    </tr>\n",
       "    <tr>\n",
       "      <th>69</th>\n",
       "      <td>14.45</td>\n",
       "    </tr>\n",
       "    <tr>\n",
       "      <th>70</th>\n",
       "      <td>13.20</td>\n",
       "    </tr>\n",
       "    <tr>\n",
       "      <th>71</th>\n",
       "      <td>19.63</td>\n",
       "    </tr>\n",
       "    <tr>\n",
       "      <th>72</th>\n",
       "      <td>40.19</td>\n",
       "    </tr>\n",
       "    <tr>\n",
       "      <th>73</th>\n",
       "      <td>68.56</td>\n",
       "    </tr>\n",
       "  </tbody>\n",
       "</table>\n",
       "<p>74 rows × 1 columns</p>\n",
       "</div>"
      ],
      "text/plain": [
       "        0\n",
       "0   20.00\n",
       "1   18.30\n",
       "2    9.14\n",
       "3    5.89\n",
       "4   15.54\n",
       "..    ...\n",
       "69  14.45\n",
       "70  13.20\n",
       "71  19.63\n",
       "72  40.19\n",
       "73  68.56\n",
       "\n",
       "[74 rows x 1 columns]"
      ]
     },
     "execution_count": 90,
     "metadata": {},
     "output_type": "execute_result"
    }
   ],
   "source": [
    "df = pd.DataFrame(numeric_array)\n",
    "df = df.dropna()\n",
    "df"
   ]
  },
  {
   "cell_type": "code",
   "execution_count": null,
   "id": "26dc7746",
   "metadata": {},
   "outputs": [],
   "source": []
  },
  {
   "cell_type": "code",
   "execution_count": null,
   "id": "cba6f00b",
   "metadata": {},
   "outputs": [],
   "source": []
  },
  {
   "cell_type": "code",
   "execution_count": null,
   "id": "5e76681a",
   "metadata": {},
   "outputs": [],
   "source": []
  }
 ],
 "metadata": {
  "kernelspec": {
   "display_name": "Python 3 (ipykernel)",
   "language": "python",
   "name": "python3"
  },
  "language_info": {
   "codemirror_mode": {
    "name": "ipython",
    "version": 3
   },
   "file_extension": ".py",
   "mimetype": "text/x-python",
   "name": "python",
   "nbconvert_exporter": "python",
   "pygments_lexer": "ipython3",
   "version": "3.10.4"
  }
 },
 "nbformat": 4,
 "nbformat_minor": 5
}
