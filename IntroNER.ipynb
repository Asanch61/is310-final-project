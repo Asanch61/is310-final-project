{
 "cells": [
  {
   "cell_type": "code",
   "execution_count": 22,
   "id": "9c59fb07",
   "metadata": {},
   "outputs": [],
   "source": [
    "import spacy\n",
    "import numpy as np\n",
    "import pandas as pd\n"
   ]
  },
  {
   "cell_type": "code",
   "execution_count": 38,
   "id": "dd127a83",
   "metadata": {},
   "outputs": [],
   "source": [
    "df = pd.read_csv('/Users/asanchez/Downloads/cleaned_pudding_public_scripts.csv')"
   ]
  },
  {
   "cell_type": "code",
   "execution_count": 39,
   "id": "4a7748df",
   "metadata": {},
   "outputs": [],
   "source": [
    "nlp = spacy.load('en_core_web_sm')"
   ]
  },
  {
   "cell_type": "code",
   "execution_count": 40,
   "id": "7662509b",
   "metadata": {},
   "outputs": [
    {
     "name": "stdout",
     "output_type": "stream",
     "text": [
      "Apple 0 5 ORG\n",
      "U.K. 27 31 GPE\n",
      "$1 billion 44 54 MONEY\n"
     ]
    }
   ],
   "source": [
    "doc = nlp(\"Apple is looking at buying U.K. startup for $1 billion\")\n",
    "\n",
    "for ent in doc.ents:\n",
    "    print(ent.text, ent.start_char, ent.end_char, ent.label_)"
   ]
  },
  {
   "cell_type": "code",
   "execution_count": 49,
   "id": "31fa814f",
   "metadata": {},
   "outputs": [],
   "source": [
    "#[prop for prop in dir(doc) if not prop.startswith('_')]\n",
    "\n",
    "#first_word = doc[0]\n",
    "#type(first_word)\n",
    "\n",
    "#[prop for prop in dir(first_word) if not prop.startswith('__')]"
   ]
  },
  {
   "cell_type": "code",
   "execution_count": 50,
   "id": "cb09b2fb",
   "metadata": {},
   "outputs": [],
   "source": [
    "#from spacy import displacy\n",
    "#displacy.render(doc, style=\"dep\")"
   ]
  },
  {
   "cell_type": "code",
   "execution_count": 43,
   "id": "b54349a1",
   "metadata": {},
   "outputs": [
    {
     "data": {
      "text/html": [
       "<div>\n",
       "<style scoped>\n",
       "    .dataframe tbody tr th:only-of-type {\n",
       "        vertical-align: middle;\n",
       "    }\n",
       "\n",
       "    .dataframe tbody tr th {\n",
       "        vertical-align: top;\n",
       "    }\n",
       "\n",
       "    .dataframe thead th {\n",
       "        text-align: right;\n",
       "    }\n",
       "</style>\n",
       "<table border=\"1\" class=\"dataframe\">\n",
       "  <thead>\n",
       "    <tr style=\"text-align: right;\">\n",
       "      <th></th>\n",
       "      <th>imdb_id</th>\n",
       "      <th>script_id</th>\n",
       "      <th>title</th>\n",
       "      <th>year</th>\n",
       "      <th>gross_ia</th>\n",
       "      <th>link</th>\n",
       "      <th>status_code</th>\n",
       "      <th>script</th>\n",
       "      <th>script_length</th>\n",
       "    </tr>\n",
       "  </thead>\n",
       "  <tbody>\n",
       "    <tr>\n",
       "      <th>0</th>\n",
       "      <td>tt0023622</td>\n",
       "      <td>5154</td>\n",
       "      <td>Trouble in Paradise</td>\n",
       "      <td>1932</td>\n",
       "      <td>NaN</td>\n",
       "      <td>http://www.aellea.com/emruf3/tip.html</td>\n",
       "      <td>200.0</td>\n",
       "      <td>\\n\\n\\n\\nTrouble in Paradise\\n\\n\\nTrouble in Pa...</td>\n",
       "      <td>139460</td>\n",
       "    </tr>\n",
       "    <tr>\n",
       "      <th>1</th>\n",
       "      <td>tt0024368</td>\n",
       "      <td>4677</td>\n",
       "      <td>Mystery of the Wax Museum</td>\n",
       "      <td>1933</td>\n",
       "      <td>NaN</td>\n",
       "      <td>http://www.aellea.com/script/qWAX.htm</td>\n",
       "      <td>200.0</td>\n",
       "      <td>\\n\\n\\n\\nMystery of the Wax Museum \\n\\n\\tFADE I...</td>\n",
       "      <td>129951</td>\n",
       "    </tr>\n",
       "    <tr>\n",
       "      <th>2</th>\n",
       "      <td>tt0025878</td>\n",
       "      <td>5115</td>\n",
       "      <td>The Thin Man</td>\n",
       "      <td>1934</td>\n",
       "      <td>NaN</td>\n",
       "      <td>http://www.dailyscript.com/scripts/thethinman....</td>\n",
       "      <td>200.0</td>\n",
       "      <td>\\n\\n\\nTHE THIN MAN by Playback by Frances Good...</td>\n",
       "      <td>343532</td>\n",
       "    </tr>\n",
       "    <tr>\n",
       "      <th>3</th>\n",
       "      <td>tt0025905</td>\n",
       "      <td>5147</td>\n",
       "      <td>Transatlantic Merry-Go-Round</td>\n",
       "      <td>1934</td>\n",
       "      <td>NaN</td>\n",
       "      <td>http://www.aellea.com/emruf3/tm.html</td>\n",
       "      <td>200.0</td>\n",
       "      <td>\\n\\nTransatlantic Merry-Go-Round\\n\\n\\n\\nTransa...</td>\n",
       "      <td>211682</td>\n",
       "    </tr>\n",
       "    <tr>\n",
       "      <th>4</th>\n",
       "      <td>tt0031679</td>\n",
       "      <td>4658</td>\n",
       "      <td>Mr. Smith Goes to Washington</td>\n",
       "      <td>1939</td>\n",
       "      <td>NaN</td>\n",
       "      <td>http://www.dailyscript.com/scripts/Mr%20Smith%...</td>\n",
       "      <td>200.0</td>\n",
       "      <td>\"MR. SMITH GOES ...</td>\n",
       "      <td>431648</td>\n",
       "    </tr>\n",
       "    <tr>\n",
       "      <th>...</th>\n",
       "      <td>...</td>\n",
       "      <td>...</td>\n",
       "      <td>...</td>\n",
       "      <td>...</td>\n",
       "      <td>...</td>\n",
       "      <td>...</td>\n",
       "      <td>...</td>\n",
       "      <td>...</td>\n",
       "      <td>...</td>\n",
       "    </tr>\n",
       "    <tr>\n",
       "      <th>199</th>\n",
       "      <td>tt0416658</td>\n",
       "      <td>4034</td>\n",
       "      <td>Crazylove</td>\n",
       "      <td>2005</td>\n",
       "      <td>NaN</td>\n",
       "      <td>http://www.dailyscript.com/scripts/crazy_love....</td>\n",
       "      <td>200.0</td>\n",
       "      <td>\\n\\nCrazy Love script by Carol Watson\\n\\n\\n\\n\\...</td>\n",
       "      <td>214472</td>\n",
       "    </tr>\n",
       "    <tr>\n",
       "      <th>200</th>\n",
       "      <td>tt0421054</td>\n",
       "      <td>4121</td>\n",
       "      <td>Domino</td>\n",
       "      <td>2005</td>\n",
       "      <td>13.0</td>\n",
       "      <td>http://www.dailyscript.com/scripts/domino.html</td>\n",
       "      <td>200.0</td>\n",
       "      <td>\\n\\n\"Domino,\" by Richard Kelly\\n\\n\\n\\r\\n\\r\\n\\r...</td>\n",
       "      <td>230620</td>\n",
       "    </tr>\n",
       "    <tr>\n",
       "      <th>201</th>\n",
       "      <td>tt0480249</td>\n",
       "      <td>4392</td>\n",
       "      <td>I Am Legend</td>\n",
       "      <td>2007</td>\n",
       "      <td>323.0</td>\n",
       "      <td>http://www.horrorlair.com/scripts/legend.txt</td>\n",
       "      <td>200.0</td>\n",
       "      <td>\\n\\n\\n\\n\\n\\n\\n\\n\\n\\n\\n\\t\\t\\t\\t\\tI am Legend\\n\\...</td>\n",
       "      <td>218366</td>\n",
       "    </tr>\n",
       "    <tr>\n",
       "      <th>202</th>\n",
       "      <td>tt1781782</td>\n",
       "      <td>3958</td>\n",
       "      <td>Boy Who Never Slept</td>\n",
       "      <td>2006</td>\n",
       "      <td>NaN</td>\n",
       "      <td>http://www.dailyscript.com/scripts/Boy+Who+Nev...</td>\n",
       "      <td>200.0</td>\n",
       "      <td>\"BOY WHO NEV...</td>\n",
       "      <td>148648</td>\n",
       "    </tr>\n",
       "    <tr>\n",
       "      <th>203</th>\n",
       "      <td>tt1837703</td>\n",
       "      <td>4208</td>\n",
       "      <td>The Fifth Estate</td>\n",
       "      <td>2013</td>\n",
       "      <td>3.0</td>\n",
       "      <td>http://wikileaks.org/IMG/html/wikileaks-dreamw...</td>\n",
       "      <td>200.0</td>\n",
       "      <td>\\n\\n\\n\\n\\nThe Fifth Estate\\n\\n\\n\\n\\n\\n\\n\\nTop\\...</td>\n",
       "      <td>251147</td>\n",
       "    </tr>\n",
       "  </tbody>\n",
       "</table>\n",
       "<p>204 rows × 9 columns</p>\n",
       "</div>"
      ],
      "text/plain": [
       "       imdb_id  script_id                         title  year  gross_ia  \\\n",
       "0    tt0023622       5154           Trouble in Paradise  1932       NaN   \n",
       "1    tt0024368       4677     Mystery of the Wax Museum  1933       NaN   \n",
       "2    tt0025878       5115                  The Thin Man  1934       NaN   \n",
       "3    tt0025905       5147  Transatlantic Merry-Go-Round  1934       NaN   \n",
       "4    tt0031679       4658  Mr. Smith Goes to Washington  1939       NaN   \n",
       "..         ...        ...                           ...   ...       ...   \n",
       "199  tt0416658       4034                     Crazylove  2005       NaN   \n",
       "200  tt0421054       4121                        Domino  2005      13.0   \n",
       "201  tt0480249       4392                   I Am Legend  2007     323.0   \n",
       "202  tt1781782       3958           Boy Who Never Slept  2006       NaN   \n",
       "203  tt1837703       4208              The Fifth Estate  2013       3.0   \n",
       "\n",
       "                                                  link  status_code  \\\n",
       "0                http://www.aellea.com/emruf3/tip.html        200.0   \n",
       "1                http://www.aellea.com/script/qWAX.htm        200.0   \n",
       "2    http://www.dailyscript.com/scripts/thethinman....        200.0   \n",
       "3                 http://www.aellea.com/emruf3/tm.html        200.0   \n",
       "4    http://www.dailyscript.com/scripts/Mr%20Smith%...        200.0   \n",
       "..                                                 ...          ...   \n",
       "199  http://www.dailyscript.com/scripts/crazy_love....        200.0   \n",
       "200     http://www.dailyscript.com/scripts/domino.html        200.0   \n",
       "201       http://www.horrorlair.com/scripts/legend.txt        200.0   \n",
       "202  http://www.dailyscript.com/scripts/Boy+Who+Nev...        200.0   \n",
       "203  http://wikileaks.org/IMG/html/wikileaks-dreamw...        200.0   \n",
       "\n",
       "                                                script  script_length  \n",
       "0    \\n\\n\\n\\nTrouble in Paradise\\n\\n\\nTrouble in Pa...         139460  \n",
       "1    \\n\\n\\n\\nMystery of the Wax Museum \\n\\n\\tFADE I...         129951  \n",
       "2    \\n\\n\\nTHE THIN MAN by Playback by Frances Good...         343532  \n",
       "3    \\n\\nTransatlantic Merry-Go-Round\\n\\n\\n\\nTransa...         211682  \n",
       "4                                  \"MR. SMITH GOES ...         431648  \n",
       "..                                                 ...            ...  \n",
       "199  \\n\\nCrazy Love script by Carol Watson\\n\\n\\n\\n\\...         214472  \n",
       "200  \\n\\n\"Domino,\" by Richard Kelly\\n\\n\\n\\r\\n\\r\\n\\r...         230620  \n",
       "201  \\n\\n\\n\\n\\n\\n\\n\\n\\n\\n\\n\\t\\t\\t\\t\\tI am Legend\\n\\...         218366  \n",
       "202                                    \"BOY WHO NEV...         148648  \n",
       "203  \\n\\n\\n\\n\\nThe Fifth Estate\\n\\n\\n\\n\\n\\n\\n\\nTop\\...         251147  \n",
       "\n",
       "[204 rows x 9 columns]"
      ]
     },
     "execution_count": 43,
     "metadata": {},
     "output_type": "execute_result"
    }
   ],
   "source": [
    "df"
   ]
  },
  {
   "cell_type": "code",
   "execution_count": 47,
   "id": "bb473cb2",
   "metadata": {},
   "outputs": [],
   "source": [
    "kill_bill_script = df[df.title.str.contains('Kill')].script.values[0]"
   ]
  },
  {
   "cell_type": "code",
   "execution_count": 48,
   "id": "7c208097",
   "metadata": {},
   "outputs": [],
   "source": [
    "doc = nlp(kill_bill_script)"
   ]
  },
  {
   "cell_type": "code",
   "execution_count": null,
   "id": "e574b930",
   "metadata": {},
   "outputs": [],
   "source": []
  },
  {
   "cell_type": "code",
   "execution_count": null,
   "id": "c7de1bd3",
   "metadata": {},
   "outputs": [],
   "source": []
  },
  {
   "cell_type": "code",
   "execution_count": 46,
   "id": "ed87a451",
   "metadata": {},
   "outputs": [
    {
     "ename": "SyntaxError",
     "evalue": "invalid syntax. Perhaps you forgot a comma? (3775934710.py, line 1)",
     "output_type": "error",
     "traceback": [
      "\u001b[0;36m  Input \u001b[0;32mIn [46]\u001b[0;36m\u001b[0m\n\u001b[0;31m    print((type)doc)\u001b[0m\n\u001b[0m           ^\u001b[0m\n\u001b[0;31mSyntaxError\u001b[0m\u001b[0;31m:\u001b[0m invalid syntax. Perhaps you forgot a comma?\n"
     ]
    }
   ],
   "source": [
    "print((type)doc)"
   ]
  },
  {
   "cell_type": "code",
   "execution_count": null,
   "id": "db67ebb3",
   "metadata": {},
   "outputs": [],
   "source": [
    "# [prop for prop in dir(doc) if not prop.startswith('_')]"
   ]
  },
  {
   "cell_type": "code",
   "execution_count": null,
   "id": "ea502b9d",
   "metadata": {},
   "outputs": [],
   "source": [
    "first_word = doc[0]\n",
    "type(first_word)"
   ]
  },
  {
   "cell_type": "code",
   "execution_count": null,
   "id": "0a5f3d29",
   "metadata": {},
   "outputs": [],
   "source": [
    "df = pd.read_csv('/Users/asanchez/Downloads/cleaned_pudding_public_scripts.csv')"
   ]
  },
  {
   "cell_type": "code",
   "execution_count": 57,
   "id": "6b75cb55",
   "metadata": {},
   "outputs": [
    {
     "ename": "TypeError",
     "evalue": "entity_type_finder() missing 2 required positional arguments: 'type_entity' and 'script'",
     "output_type": "error",
     "traceback": [
      "\u001b[0;31m---------------------------------------------------------------------------\u001b[0m",
      "\u001b[0;31mTypeError\u001b[0m                                 Traceback (most recent call last)",
      "Input \u001b[0;32mIn [57]\u001b[0m, in \u001b[0;36m<cell line: 8>\u001b[0;34m()\u001b[0m\n\u001b[1;32m      6\u001b[0m             data\u001b[38;5;241m.\u001b[39mappend(ent)\n\u001b[1;32m      7\u001b[0m     \u001b[38;5;28;01mreturn\u001b[39;00m data\n\u001b[0;32m----> 8\u001b[0m sp \u001b[38;5;241m=\u001b[39m \u001b[43mentity_type_finder\u001b[49m\u001b[43m(\u001b[49m\u001b[43m)\u001b[49m\n\u001b[1;32m     10\u001b[0m \u001b[38;5;28mprint\u001b[39m(sp)\n",
      "\u001b[0;31mTypeError\u001b[0m: entity_type_finder() missing 2 required positional arguments: 'type_entity' and 'script'"
     ]
    }
   ],
   "source": [
    "def entity_type_finder(type_entity,script):\n",
    "    doc = nlp(script)\n",
    "    data= []\n",
    "    for ent in docc.ents:\n",
    "        if ent == type_entity:\n",
    "            data.append(ent)\n",
    "    return data\n",
    "sp = entity_type_finder(ent)\n",
    "\n",
    "print(sp)\n"
   ]
  },
  {
   "cell_type": "code",
   "execution_count": null,
   "id": "45d8d8ca",
   "metadata": {},
   "outputs": [],
   "source": []
  }
 ],
 "metadata": {
  "kernelspec": {
   "display_name": "is310-venv",
   "language": "python",
   "name": "is310-venv"
  },
  "language_info": {
   "codemirror_mode": {
    "name": "ipython",
    "version": 3
   },
   "file_extension": ".py",
   "mimetype": "text/x-python",
   "name": "python",
   "nbconvert_exporter": "python",
   "pygments_lexer": "ipython3",
   "version": "3.10.4"
  }
 },
 "nbformat": 4,
 "nbformat_minor": 5
}
