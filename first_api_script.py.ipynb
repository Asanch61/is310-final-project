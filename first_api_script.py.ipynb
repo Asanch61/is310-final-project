{
 "cells": [
  {
   "cell_type": "code",
   "execution_count": 1,
   "id": "3a38b69e",
   "metadata": {},
   "outputs": [],
   "source": [
    "import requests "
   ]
  },
  {
   "cell_type": "code",
   "execution_count": 2,
   "id": "d495fa11",
   "metadata": {},
   "outputs": [],
   "source": [
    "api_key = \"d262c4e92c6c6aac6d07bc4f8deb76ea\""
   ]
  },
  {
   "cell_type": "code",
   "execution_count": 26,
   "id": "0eb73c01",
   "metadata": {},
   "outputs": [],
   "source": [
    "url = 'https://api.dp.la/v2/items?q=\"LifelinetoBerlin\"&api_key='"
   ]
  },
  {
   "cell_type": "code",
   "execution_count": 15,
   "id": "e92e68dc",
   "metadata": {},
   "outputs": [],
   "source": [
    "response = requests.get(url + api_key)"
   ]
  },
  {
   "cell_type": "code",
   "execution_count": 16,
   "id": "cea3b41e",
   "metadata": {},
   "outputs": [
    {
     "data": {
      "text/plain": [
       "200"
      ]
     },
     "execution_count": 16,
     "metadata": {},
     "output_type": "execute_result"
    }
   ],
   "source": [
    "response.status_code"
   ]
  },
  {
   "cell_type": "code",
   "execution_count": 18,
   "id": "07adb3bb",
   "metadata": {},
   "outputs": [
    {
     "data": {
      "text/plain": [
       "{'count': 0, 'start': 1, 'limit': 10, 'docs': [], 'facets': []}"
      ]
     },
     "execution_count": 18,
     "metadata": {},
     "output_type": "execute_result"
    }
   ],
   "source": [
    "response.json()"
   ]
  },
  {
   "cell_type": "code",
   "execution_count": 19,
   "id": "adc29a7b",
   "metadata": {},
   "outputs": [],
   "source": [
    "dpla_data = response.json()"
   ]
  },
  {
   "cell_type": "code",
   "execution_count": 27,
   "id": "99071476",
   "metadata": {},
   "outputs": [
    {
     "name": "stdout",
     "output_type": "stream",
     "text": [
      "dict_keys(['count', 'start', 'limit', 'docs', 'facets'])\n"
     ]
    }
   ],
   "source": [
    "print(dpla_data.keys())"
   ]
  },
  {
   "cell_type": "code",
   "execution_count": 28,
   "id": "67b22ffb",
   "metadata": {},
   "outputs": [
    {
     "ename": "IndexError",
     "evalue": "list index out of range",
     "output_type": "error",
     "traceback": [
      "\u001b[0;31m---------------------------------------------------------------------------\u001b[0m",
      "\u001b[0;31mIndexError\u001b[0m                                Traceback (most recent call last)",
      "Input \u001b[0;32mIn [28]\u001b[0m, in \u001b[0;36m<cell line: 1>\u001b[0;34m()\u001b[0m\n\u001b[0;32m----> 1\u001b[0m \u001b[38;5;28mprint\u001b[39m(\u001b[38;5;124m'\u001b[39m\u001b[38;5;124mdataProvider\u001b[39m\u001b[38;5;124m'\u001b[39m, \u001b[43mdpla_data\u001b[49m\u001b[43m[\u001b[49m\u001b[38;5;124;43m'\u001b[39;49m\u001b[38;5;124;43mdocs\u001b[39;49m\u001b[38;5;124;43m'\u001b[39;49m\u001b[43m]\u001b[49m\u001b[43m[\u001b[49m\u001b[38;5;241;43m0\u001b[39;49m\u001b[43m]\u001b[49m[\u001b[38;5;124m'\u001b[39m\u001b[38;5;124mdataProvider\u001b[39m\u001b[38;5;124m'\u001b[39m])\n",
      "\u001b[0;31mIndexError\u001b[0m: list index out of range"
     ]
    }
   ],
   "source": [
    "print('dataProvider', dpla_data['docs'][0]['dataProvider'])\n"
   ]
  },
  {
   "cell_type": "code",
   "execution_count": 29,
   "id": "589ed4fd",
   "metadata": {},
   "outputs": [
    {
     "ename": "IndexError",
     "evalue": "list index out of range",
     "output_type": "error",
     "traceback": [
      "\u001b[0;31m---------------------------------------------------------------------------\u001b[0m",
      "\u001b[0;31mIndexError\u001b[0m                                Traceback (most recent call last)",
      "Input \u001b[0;32mIn [29]\u001b[0m, in \u001b[0;36m<cell line: 1>\u001b[0;34m()\u001b[0m\n\u001b[0;32m----> 1\u001b[0m \u001b[38;5;28mprint\u001b[39m(\u001b[38;5;124m'\u001b[39m\u001b[38;5;124misShownAt\u001b[39m\u001b[38;5;124m'\u001b[39m, \u001b[43mdpla_data\u001b[49m\u001b[43m[\u001b[49m\u001b[38;5;124;43m'\u001b[39;49m\u001b[38;5;124;43mdocs\u001b[39;49m\u001b[38;5;124;43m'\u001b[39;49m\u001b[43m]\u001b[49m\u001b[43m[\u001b[49m\u001b[38;5;241;43m0\u001b[39;49m\u001b[43m]\u001b[49m[\u001b[38;5;124m'\u001b[39m\u001b[38;5;124misShownAt\u001b[39m\u001b[38;5;124m'\u001b[39m])\n",
      "\u001b[0;31mIndexError\u001b[0m: list index out of range"
     ]
    }
   ],
   "source": [
    "print('isShownAt', dpla_data['docs'][0]['isShownAt'])"
   ]
  },
  {
   "cell_type": "code",
   "execution_count": null,
   "id": "389ba1c7",
   "metadata": {},
   "outputs": [],
   "source": [
    "print('Life', dpla_data['docs'][0]['isShownAt'])"
   ]
  },
  {
   "cell_type": "code",
   "execution_count": 31,
   "id": "bfaccf8b",
   "metadata": {},
   "outputs": [
    {
     "data": {
      "text/plain": [
       "2"
      ]
     },
     "execution_count": 31,
     "metadata": {},
     "output_type": "execute_result"
    }
   ],
   "source": [
    "2"
   ]
  },
  {
   "cell_type": "code",
   "execution_count": null,
   "id": "a81c1297",
   "metadata": {},
   "outputs": [],
   "source": []
  },
  {
   "cell_type": "code",
   "execution_count": null,
   "id": "a524d2ac",
   "metadata": {},
   "outputs": [],
   "source": []
  },
  {
   "cell_type": "code",
   "execution_count": null,
   "id": "e3547709",
   "metadata": {},
   "outputs": [],
   "source": []
  }
 ],
 "metadata": {
  "kernelspec": {
   "display_name": "tutorial_env",
   "language": "python",
   "name": "tutorial_env"
  },
  "language_info": {
   "codemirror_mode": {
    "name": "ipython",
    "version": 3
   },
   "file_extension": ".py",
   "mimetype": "text/x-python",
   "name": "python",
   "nbconvert_exporter": "python",
   "pygments_lexer": "ipython3",
   "version": "3.10.3"
  }
 },
 "nbformat": 4,
 "nbformat_minor": 5
}
